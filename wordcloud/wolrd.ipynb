{
 "cells": [
  {
   "cell_type": "code",
   "execution_count": 19,
   "metadata": {},
   "outputs": [],
   "source": [
    "#Importing Libraries\n",
    "import pandas as pd\n",
    "import matplotlib.pyplot as plt\n",
    "%matplotlib inline\n",
    "from wordcloud import WordCloud"
   ]
  },
  {
   "cell_type": "code",
   "execution_count": 20,
   "metadata": {},
   "outputs": [],
   "source": [
    "#Importing Dataset\n",
    "df = pd.read_csv(\"android-games.csv\")"
   ]
  },
  {
   "cell_type": "code",
   "execution_count": 21,
   "metadata": {},
   "outputs": [
    {
     "data": {
      "text/html": [
       "<div>\n",
       "<style scoped>\n",
       "    .dataframe tbody tr th:only-of-type {\n",
       "        vertical-align: middle;\n",
       "    }\n",
       "\n",
       "    .dataframe tbody tr th {\n",
       "        vertical-align: top;\n",
       "    }\n",
       "\n",
       "    .dataframe thead th {\n",
       "        text-align: right;\n",
       "    }\n",
       "</style>\n",
       "<table border=\"1\" class=\"dataframe\">\n",
       "  <thead>\n",
       "    <tr style=\"text-align: right;\">\n",
       "      <th></th>\n",
       "      <th>rank</th>\n",
       "      <th>title</th>\n",
       "      <th>total ratings</th>\n",
       "      <th>installs</th>\n",
       "      <th>average rating</th>\n",
       "      <th>growth (30 days)</th>\n",
       "      <th>growth (60 days)</th>\n",
       "      <th>price</th>\n",
       "      <th>category</th>\n",
       "      <th>5 star ratings</th>\n",
       "      <th>4 star ratings</th>\n",
       "      <th>3 star ratings</th>\n",
       "      <th>2 star ratings</th>\n",
       "      <th>1 star ratings</th>\n",
       "      <th>paid</th>\n",
       "    </tr>\n",
       "  </thead>\n",
       "  <tbody>\n",
       "    <tr>\n",
       "      <th>0</th>\n",
       "      <td>1</td>\n",
       "      <td>Garena Free Fire- World Series</td>\n",
       "      <td>86273129</td>\n",
       "      <td>500.0 M</td>\n",
       "      <td>4</td>\n",
       "      <td>2.1</td>\n",
       "      <td>6.9</td>\n",
       "      <td>0.0</td>\n",
       "      <td>GAME ACTION</td>\n",
       "      <td>63546766</td>\n",
       "      <td>4949507</td>\n",
       "      <td>3158756</td>\n",
       "      <td>2122183</td>\n",
       "      <td>12495915</td>\n",
       "      <td>False</td>\n",
       "    </tr>\n",
       "    <tr>\n",
       "      <th>1</th>\n",
       "      <td>2</td>\n",
       "      <td>PUBG MOBILE - Traverse</td>\n",
       "      <td>37276732</td>\n",
       "      <td>500.0 M</td>\n",
       "      <td>4</td>\n",
       "      <td>1.8</td>\n",
       "      <td>3.6</td>\n",
       "      <td>0.0</td>\n",
       "      <td>GAME ACTION</td>\n",
       "      <td>28339753</td>\n",
       "      <td>2164478</td>\n",
       "      <td>1253185</td>\n",
       "      <td>809821</td>\n",
       "      <td>4709492</td>\n",
       "      <td>False</td>\n",
       "    </tr>\n",
       "    <tr>\n",
       "      <th>2</th>\n",
       "      <td>3</td>\n",
       "      <td>Mobile Legends: Bang Bang</td>\n",
       "      <td>26663595</td>\n",
       "      <td>100.0 M</td>\n",
       "      <td>4</td>\n",
       "      <td>1.5</td>\n",
       "      <td>3.2</td>\n",
       "      <td>0.0</td>\n",
       "      <td>GAME ACTION</td>\n",
       "      <td>18777988</td>\n",
       "      <td>1812094</td>\n",
       "      <td>1050600</td>\n",
       "      <td>713912</td>\n",
       "      <td>4308998</td>\n",
       "      <td>False</td>\n",
       "    </tr>\n",
       "    <tr>\n",
       "      <th>3</th>\n",
       "      <td>4</td>\n",
       "      <td>Brawl Stars</td>\n",
       "      <td>17971552</td>\n",
       "      <td>100.0 M</td>\n",
       "      <td>4</td>\n",
       "      <td>1.4</td>\n",
       "      <td>4.4</td>\n",
       "      <td>0.0</td>\n",
       "      <td>GAME ACTION</td>\n",
       "      <td>13018610</td>\n",
       "      <td>1552950</td>\n",
       "      <td>774012</td>\n",
       "      <td>406184</td>\n",
       "      <td>2219794</td>\n",
       "      <td>False</td>\n",
       "    </tr>\n",
       "    <tr>\n",
       "      <th>4</th>\n",
       "      <td>5</td>\n",
       "      <td>Sniper 3D: Fun Free Online FPS Shooting Game</td>\n",
       "      <td>14464235</td>\n",
       "      <td>500.0 M</td>\n",
       "      <td>4</td>\n",
       "      <td>0.8</td>\n",
       "      <td>1.5</td>\n",
       "      <td>0.0</td>\n",
       "      <td>GAME ACTION</td>\n",
       "      <td>9827328</td>\n",
       "      <td>2124154</td>\n",
       "      <td>1047741</td>\n",
       "      <td>380670</td>\n",
       "      <td>1084340</td>\n",
       "      <td>False</td>\n",
       "    </tr>\n",
       "  </tbody>\n",
       "</table>\n",
       "</div>"
      ],
      "text/plain": [
       "   rank                                         title  total ratings installs  \\\n",
       "0     1                Garena Free Fire- World Series       86273129  500.0 M   \n",
       "1     2                        PUBG MOBILE - Traverse       37276732  500.0 M   \n",
       "2     3                     Mobile Legends: Bang Bang       26663595  100.0 M   \n",
       "3     4                                   Brawl Stars       17971552  100.0 M   \n",
       "4     5  Sniper 3D: Fun Free Online FPS Shooting Game       14464235  500.0 M   \n",
       "\n",
       "   average rating  growth (30 days)  growth (60 days)  price     category  \\\n",
       "0               4               2.1               6.9    0.0  GAME ACTION   \n",
       "1               4               1.8               3.6    0.0  GAME ACTION   \n",
       "2               4               1.5               3.2    0.0  GAME ACTION   \n",
       "3               4               1.4               4.4    0.0  GAME ACTION   \n",
       "4               4               0.8               1.5    0.0  GAME ACTION   \n",
       "\n",
       "   5 star ratings  4 star ratings  3 star ratings  2 star ratings  \\\n",
       "0        63546766         4949507         3158756         2122183   \n",
       "1        28339753         2164478         1253185          809821   \n",
       "2        18777988         1812094         1050600          713912   \n",
       "3        13018610         1552950          774012          406184   \n",
       "4         9827328         2124154         1047741          380670   \n",
       "\n",
       "   1 star ratings   paid  \n",
       "0        12495915  False  \n",
       "1         4709492  False  \n",
       "2         4308998  False  \n",
       "3         2219794  False  \n",
       "4         1084340  False  "
      ]
     },
     "execution_count": 21,
     "metadata": {},
     "output_type": "execute_result"
    }
   ],
   "source": [
    "#Checking the Data\n",
    "df.head()"
   ]
  },
  {
   "cell_type": "code",
   "execution_count": 22,
   "metadata": {},
   "outputs": [
    {
     "data": {
      "text/plain": [
       "rank                0\n",
       "title               0\n",
       "total ratings       0\n",
       "installs            0\n",
       "average rating      0\n",
       "growth (30 days)    0\n",
       "growth (60 days)    0\n",
       "price               0\n",
       "category            0\n",
       "5 star ratings      0\n",
       "4 star ratings      0\n",
       "3 star ratings      0\n",
       "2 star ratings      0\n",
       "1 star ratings      0\n",
       "paid                0\n",
       "dtype: int64"
      ]
     },
     "execution_count": 22,
     "metadata": {},
     "output_type": "execute_result"
    }
   ],
   "source": [
    "#Checking for NaN values\n",
    "df.isna().sum()\n"
   ]
  },
  {
   "cell_type": "code",
   "execution_count": 23,
   "metadata": {},
   "outputs": [
    {
     "data": {
      "text/plain": [
       "'ACTION ACTION ACTION ACTION ACTION ACTION ACTION ACTION ACTION ACTION ACTION ACTION ACTION ACTION ACTION ACTION ACTION ACTION ACTION ACTION ACTION ACTION ACTION ACTION ACTION ACTION ACTION ACTION ACTION ACTION ACTION ACTION ACTION ACTION ACTION ACTION ACTION ACTION ACTION ACTION ACTION ACTION ACTION ACTION ACTION ACTION ACTION ACTION ACTION ACTION ACTION ACTION ACTION ACTION ACTION ACTION ACTION ACTION ACTION ACTION ACTION ACTION ACTION ACTION ACTION ACTION ACTION ACTION ACTION ACTION ACTION ACTION ACTION ACTION ACTION ACTION ACTION ACTION ACTION ACTION ACTION ACTION ACTION ACTION ACTION ACTION ACTION ACTION ACTION ACTION ACTION ACTION ACTION ACTION ACTION ACTION ACTION ACTION ACTION ACTION ADVENTURE ADVENTURE ADVENTURE ADVENTURE ADVENTURE ADVENTURE ADVENTURE ADVENTURE ADVENTURE ADVENTURE ADVENTURE ADVENTURE ADVENTURE ADVENTURE ADVENTURE ADVENTURE ADVENTURE ADVENTURE ADVENTURE ADVENTURE ADVENTURE ADVENTURE ADVENTURE ADVENTURE ADVENTURE ADVENTURE ADVENTURE ADVENTURE ADVENTURE ADVENTURE ADVENTURE ADVENTURE ADVENTURE ADVENTURE ADVENTURE ADVENTURE ADVENTURE ADVENTURE ADVENTURE ADVENTURE ADVENTURE ADVENTURE ADVENTURE ADVENTURE ADVENTURE ADVENTURE ADVENTURE ADVENTURE ADVENTURE ADVENTURE ADVENTURE ADVENTURE ADVENTURE ADVENTURE ADVENTURE ADVENTURE ADVENTURE ADVENTURE ADVENTURE ADVENTURE ADVENTURE ADVENTURE ADVENTURE ADVENTURE ADVENTURE ADVENTURE ADVENTURE ADVENTURE ADVENTURE ADVENTURE ADVENTURE ADVENTURE ADVENTURE ADVENTURE ADVENTURE ADVENTURE ADVENTURE ADVENTURE ADVENTURE ADVENTURE ADVENTURE ADVENTURE ADVENTURE ADVENTURE ADVENTURE ADVENTURE ADVENTURE ADVENTURE ADVENTURE ADVENTURE ADVENTURE ADVENTURE ADVENTURE ADVENTURE ADVENTURE ADVENTURE ADVENTURE ADVENTURE ADVENTURE ADVENTURE ARCADE ARCADE ARCADE ARCADE ARCADE ARCADE ARCADE ARCADE ARCADE ARCADE ARCADE ARCADE ARCADE ARCADE ARCADE ARCADE ARCADE ARCADE ARCADE ARCADE ARCADE ARCADE ARCADE ARCADE ARCADE ARCADE ARCADE ARCADE ARCADE ARCADE ARCADE ARCADE ARCADE ARCADE ARCADE ARCADE ARCADE ARCADE ARCADE ARCADE ARCADE ARCADE ARCADE ARCADE ARCADE ARCADE ARCADE ARCADE ARCADE ARCADE ARCADE ARCADE ARCADE ARCADE ARCADE ARCADE ARCADE ARCADE ARCADE ARCADE ARCADE ARCADE ARCADE ARCADE ARCADE ARCADE ARCADE ARCADE ARCADE ARCADE ARCADE ARCADE ARCADE ARCADE ARCADE ARCADE ARCADE ARCADE ARCADE ARCADE ARCADE ARCADE ARCADE ARCADE ARCADE ARCADE ARCADE ARCADE ARCADE ARCADE ARCADE ARCADE ARCADE ARCADE ARCADE ARCADE ARCADE ARCADE ARCADE ARCADE BOARD BOARD BOARD BOARD BOARD BOARD BOARD BOARD BOARD BOARD BOARD BOARD BOARD BOARD BOARD BOARD BOARD BOARD BOARD BOARD BOARD BOARD BOARD BOARD BOARD BOARD BOARD BOARD BOARD BOARD BOARD BOARD BOARD BOARD BOARD BOARD BOARD BOARD BOARD BOARD BOARD BOARD BOARD BOARD BOARD BOARD BOARD BOARD BOARD BOARD BOARD BOARD BOARD BOARD BOARD BOARD BOARD BOARD BOARD BOARD BOARD BOARD BOARD BOARD BOARD BOARD BOARD BOARD BOARD BOARD BOARD BOARD BOARD BOARD BOARD BOARD BOARD BOARD BOARD BOARD BOARD BOARD BOARD BOARD BOARD BOARD BOARD BOARD BOARD BOARD BOARD BOARD BOARD BOARD BOARD BOARD BOARD BOARD BOARD BOARD CARD CARD CARD CARD CARD CARD CARD CARD CARD CARD CARD CARD CARD CARD CARD CARD CARD CARD CARD CARD CARD CARD CARD CARD CARD CARD CARD CARD CARD CARD CARD CARD CARD CARD CARD CARD CARD CARD CARD CARD CARD CARD CARD CARD CARD CARD CARD CARD CARD CARD CARD CARD CARD CARD CARD CARD CARD CARD CARD CARD CARD CARD CARD CARD CARD CARD CARD CARD CARD CARD CARD CARD CARD CARD CARD CARD CARD CARD CARD CARD CARD CARD CARD CARD CARD CARD CARD CARD CARD CARD CARD CARD CARD CARD CARD CARD CARD CARD CARD CARD CARD CARD CARD CARD CARD CARD CARD CARD CARD CARD CARD CARD CARD CARD CARD CARD CARD CARD CARD CARD CARD CARD CARD CARD CARD CARD CASINO CASINO CASINO CASINO CASINO CASINO CASINO CASINO CASINO CASINO CASINO CASINO CASINO CASINO CASINO CASINO CASINO CASINO CASINO CASINO CASINO CASINO CASINO CASINO CASINO CASINO CASINO CASINO CASINO CASINO CASINO CASINO CASINO CASINO CASINO CASINO CASINO CASINO CASINO CASINO CASINO CASINO CASINO CASINO CASINO CASINO CASINO CASINO CASINO CASINO CASINO CASINO CASINO CASINO CASINO CASINO CASINO CASINO CASINO CASINO CASINO CASINO CASINO CASINO CASINO CASINO CASINO CASINO CASINO CASINO CASINO CASINO CASINO CASINO CASINO CASINO CASINO CASINO CASINO CASINO CASINO CASINO CASINO CASINO CASINO CASINO CASINO CASINO CASINO CASINO CASINO CASINO CASINO CASINO CASINO CASINO CASINO CASINO CASINO CASINO CASUAL CASUAL CASUAL CASUAL CASUAL CASUAL CASUAL CASUAL CASUAL CASUAL CASUAL CASUAL CASUAL CASUAL CASUAL CASUAL CASUAL CASUAL CASUAL CASUAL CASUAL CASUAL CASUAL CASUAL CASUAL CASUAL CASUAL CASUAL CASUAL CASUAL CASUAL CASUAL CASUAL CASUAL CASUAL CASUAL CASUAL CASUAL CASUAL CASUAL CASUAL CASUAL CASUAL CASUAL CASUAL CASUAL CASUAL CASUAL CASUAL CASUAL CASUAL CASUAL CASUAL CASUAL CASUAL CASUAL CASUAL CASUAL CASUAL CASUAL CASUAL CASUAL CASUAL CASUAL CASUAL CASUAL CASUAL CASUAL CASUAL CASUAL CASUAL CASUAL CASUAL CASUAL CASUAL CASUAL CASUAL CASUAL CASUAL CASUAL CASUAL CASUAL CASUAL CASUAL CASUAL CASUAL CASUAL CASUAL CASUAL CASUAL CASUAL CASUAL CASUAL CASUAL CASUAL CASUAL CASUAL CASUAL CASUAL CASUAL EDUCATIONAL EDUCATIONAL EDUCATIONAL EDUCATIONAL EDUCATIONAL EDUCATIONAL EDUCATIONAL EDUCATIONAL EDUCATIONAL EDUCATIONAL EDUCATIONAL EDUCATIONAL EDUCATIONAL EDUCATIONAL EDUCATIONAL EDUCATIONAL EDUCATIONAL EDUCATIONAL EDUCATIONAL EDUCATIONAL EDUCATIONAL EDUCATIONAL EDUCATIONAL EDUCATIONAL EDUCATIONAL EDUCATIONAL EDUCATIONAL EDUCATIONAL EDUCATIONAL EDUCATIONAL EDUCATIONAL EDUCATIONAL EDUCATIONAL EDUCATIONAL EDUCATIONAL EDUCATIONAL EDUCATIONAL EDUCATIONAL EDUCATIONAL EDUCATIONAL EDUCATIONAL EDUCATIONAL EDUCATIONAL EDUCATIONAL EDUCATIONAL EDUCATIONAL EDUCATIONAL EDUCATIONAL EDUCATIONAL EDUCATIONAL EDUCATIONAL EDUCATIONAL EDUCATIONAL EDUCATIONAL EDUCATIONAL EDUCATIONAL EDUCATIONAL EDUCATIONAL EDUCATIONAL EDUCATIONAL EDUCATIONAL EDUCATIONAL EDUCATIONAL EDUCATIONAL EDUCATIONAL EDUCATIONAL EDUCATIONAL EDUCATIONAL EDUCATIONAL EDUCATIONAL EDUCATIONAL EDUCATIONAL EDUCATIONAL EDUCATIONAL EDUCATIONAL EDUCATIONAL EDUCATIONAL EDUCATIONAL EDUCATIONAL EDUCATIONAL EDUCATIONAL EDUCATIONAL EDUCATIONAL EDUCATIONAL EDUCATIONAL EDUCATIONAL EDUCATIONAL EDUCATIONAL EDUCATIONAL EDUCATIONAL EDUCATIONAL EDUCATIONAL EDUCATIONAL EDUCATIONAL EDUCATIONAL EDUCATIONAL EDUCATIONAL EDUCATIONAL EDUCATIONAL EDUCATIONAL MUSIC MUSIC MUSIC MUSIC MUSIC MUSIC MUSIC MUSIC MUSIC MUSIC MUSIC MUSIC MUSIC MUSIC MUSIC MUSIC MUSIC MUSIC MUSIC MUSIC MUSIC MUSIC MUSIC MUSIC MUSIC MUSIC MUSIC MUSIC MUSIC MUSIC MUSIC MUSIC MUSIC MUSIC MUSIC MUSIC MUSIC MUSIC MUSIC MUSIC MUSIC MUSIC MUSIC MUSIC MUSIC MUSIC MUSIC MUSIC MUSIC MUSIC MUSIC MUSIC MUSIC MUSIC MUSIC MUSIC MUSIC MUSIC MUSIC MUSIC MUSIC MUSIC MUSIC MUSIC MUSIC MUSIC MUSIC MUSIC MUSIC MUSIC MUSIC MUSIC MUSIC MUSIC MUSIC MUSIC MUSIC MUSIC MUSIC MUSIC MUSIC MUSIC MUSIC MUSIC MUSIC MUSIC MUSIC MUSIC MUSIC MUSIC MUSIC MUSIC MUSIC MUSIC MUSIC MUSIC MUSIC MUSIC MUSIC MUSIC PUZZLE PUZZLE PUZZLE PUZZLE PUZZLE PUZZLE PUZZLE PUZZLE PUZZLE PUZZLE PUZZLE PUZZLE PUZZLE PUZZLE PUZZLE PUZZLE PUZZLE PUZZLE PUZZLE PUZZLE PUZZLE PUZZLE PUZZLE PUZZLE PUZZLE PUZZLE PUZZLE PUZZLE PUZZLE PUZZLE PUZZLE PUZZLE PUZZLE PUZZLE PUZZLE PUZZLE PUZZLE PUZZLE PUZZLE PUZZLE PUZZLE PUZZLE PUZZLE PUZZLE PUZZLE PUZZLE PUZZLE PUZZLE PUZZLE PUZZLE PUZZLE PUZZLE PUZZLE PUZZLE PUZZLE PUZZLE PUZZLE PUZZLE PUZZLE PUZZLE PUZZLE PUZZLE PUZZLE PUZZLE PUZZLE PUZZLE PUZZLE PUZZLE PUZZLE PUZZLE PUZZLE PUZZLE PUZZLE PUZZLE PUZZLE PUZZLE PUZZLE PUZZLE PUZZLE PUZZLE PUZZLE PUZZLE PUZZLE PUZZLE PUZZLE PUZZLE PUZZLE PUZZLE PUZZLE PUZZLE PUZZLE PUZZLE PUZZLE PUZZLE PUZZLE PUZZLE PUZZLE PUZZLE PUZZLE PUZZLE RACING RACING RACING RACING RACING RACING RACING RACING RACING RACING RACING RACING RACING RACING RACING RACING RACING RACING RACING RACING RACING RACING RACING RACING RACING RACING RACING RACING RACING RACING RACING RACING RACING RACING RACING RACING RACING RACING RACING RACING RACING RACING RACING RACING RACING RACING RACING RACING RACING RACING RACING RACING RACING RACING RACING RACING RACING RACING RACING RACING RACING RACING RACING RACING RACING RACING RACING RACING RACING RACING RACING RACING RACING RACING RACING RACING RACING RACING RACING RACING RACING RACING RACING RACING RACING RACING RACING RACING RACING RACING RACING RACING RACING RACING RACING RACING RACING RACING RACING RACING ROLE ROLE ROLE ROLE ROLE ROLE ROLE ROLE ROLE ROLE ROLE ROLE ROLE ROLE ROLE ROLE ROLE ROLE ROLE ROLE ROLE ROLE ROLE ROLE ROLE ROLE ROLE ROLE ROLE ROLE ROLE ROLE ROLE ROLE ROLE ROLE ROLE ROLE ROLE ROLE ROLE ROLE ROLE ROLE ROLE ROLE ROLE ROLE ROLE ROLE ROLE ROLE ROLE ROLE ROLE ROLE ROLE ROLE ROLE ROLE ROLE ROLE ROLE ROLE ROLE ROLE ROLE ROLE ROLE ROLE ROLE ROLE ROLE ROLE ROLE ROLE ROLE ROLE ROLE ROLE ROLE ROLE ROLE ROLE ROLE ROLE ROLE ROLE ROLE ROLE ROLE ROLE ROLE ROLE ROLE ROLE ROLE ROLE ROLE ROLE SIMULATION SIMULATION SIMULATION SIMULATION SIMULATION SIMULATION SIMULATION SIMULATION SIMULATION SIMULATION SIMULATION SIMULATION SIMULATION SIMULATION SIMULATION SIMULATION SIMULATION SIMULATION SIMULATION SIMULATION SIMULATION SIMULATION SIMULATION SIMULATION SIMULATION SIMULATION SIMULATION SIMULATION SIMULATION SIMULATION SIMULATION SIMULATION SIMULATION SIMULATION SIMULATION SIMULATION SIMULATION SIMULATION SIMULATION SIMULATION SIMULATION SIMULATION SIMULATION SIMULATION SIMULATION SIMULATION SIMULATION SIMULATION SIMULATION SIMULATION SIMULATION SIMULATION SIMULATION SIMULATION SIMULATION SIMULATION SIMULATION SIMULATION SIMULATION SIMULATION SIMULATION SIMULATION SIMULATION SIMULATION SIMULATION SIMULATION SIMULATION SIMULATION SIMULATION SIMULATION SIMULATION SIMULATION SIMULATION SIMULATION SIMULATION SIMULATION SIMULATION SIMULATION SIMULATION SIMULATION SIMULATION SIMULATION SIMULATION SIMULATION SIMULATION SIMULATION SIMULATION SIMULATION SIMULATION SIMULATION SIMULATION SIMULATION SIMULATION SIMULATION SIMULATION SIMULATION SIMULATION SIMULATION SIMULATION SIMULATION SPORTS SPORTS SPORTS SPORTS SPORTS SPORTS SPORTS SPORTS SPORTS SPORTS SPORTS SPORTS SPORTS SPORTS SPORTS SPORTS SPORTS SPORTS SPORTS SPORTS SPORTS SPORTS SPORTS SPORTS SPORTS SPORTS SPORTS SPORTS SPORTS SPORTS SPORTS SPORTS SPORTS SPORTS SPORTS SPORTS SPORTS SPORTS SPORTS SPORTS SPORTS SPORTS SPORTS SPORTS SPORTS SPORTS SPORTS SPORTS SPORTS SPORTS SPORTS SPORTS SPORTS SPORTS SPORTS SPORTS SPORTS SPORTS SPORTS SPORTS SPORTS SPORTS SPORTS SPORTS SPORTS SPORTS SPORTS SPORTS SPORTS SPORTS SPORTS SPORTS SPORTS SPORTS SPORTS SPORTS SPORTS SPORTS SPORTS SPORTS SPORTS SPORTS SPORTS SPORTS SPORTS SPORTS SPORTS SPORTS SPORTS SPORTS SPORTS SPORTS SPORTS SPORTS SPORTS SPORTS SPORTS SPORTS SPORTS SPORTS STRATEGY STRATEGY STRATEGY STRATEGY STRATEGY STRATEGY STRATEGY STRATEGY STRATEGY STRATEGY STRATEGY STRATEGY STRATEGY STRATEGY STRATEGY STRATEGY STRATEGY STRATEGY STRATEGY STRATEGY STRATEGY STRATEGY STRATEGY STRATEGY STRATEGY STRATEGY STRATEGY STRATEGY STRATEGY STRATEGY STRATEGY STRATEGY STRATEGY STRATEGY STRATEGY STRATEGY STRATEGY STRATEGY STRATEGY STRATEGY STRATEGY STRATEGY STRATEGY STRATEGY STRATEGY STRATEGY STRATEGY STRATEGY STRATEGY STRATEGY STRATEGY STRATEGY STRATEGY STRATEGY STRATEGY STRATEGY STRATEGY STRATEGY STRATEGY STRATEGY STRATEGY STRATEGY STRATEGY STRATEGY STRATEGY STRATEGY STRATEGY STRATEGY STRATEGY STRATEGY STRATEGY STRATEGY STRATEGY STRATEGY STRATEGY STRATEGY STRATEGY STRATEGY STRATEGY STRATEGY STRATEGY STRATEGY STRATEGY STRATEGY STRATEGY STRATEGY STRATEGY STRATEGY STRATEGY STRATEGY STRATEGY STRATEGY STRATEGY STRATEGY STRATEGY STRATEGY STRATEGY STRATEGY STRATEGY STRATEGY TRIVIA TRIVIA TRIVIA TRIVIA TRIVIA TRIVIA TRIVIA TRIVIA TRIVIA TRIVIA TRIVIA TRIVIA TRIVIA TRIVIA TRIVIA TRIVIA TRIVIA TRIVIA TRIVIA TRIVIA TRIVIA TRIVIA TRIVIA TRIVIA TRIVIA TRIVIA TRIVIA TRIVIA TRIVIA TRIVIA TRIVIA TRIVIA TRIVIA TRIVIA TRIVIA TRIVIA TRIVIA TRIVIA TRIVIA TRIVIA TRIVIA TRIVIA TRIVIA TRIVIA TRIVIA TRIVIA TRIVIA TRIVIA TRIVIA TRIVIA TRIVIA TRIVIA TRIVIA TRIVIA TRIVIA TRIVIA TRIVIA TRIVIA TRIVIA TRIVIA TRIVIA TRIVIA TRIVIA TRIVIA TRIVIA TRIVIA TRIVIA TRIVIA TRIVIA TRIVIA TRIVIA TRIVIA TRIVIA TRIVIA TRIVIA TRIVIA TRIVIA TRIVIA TRIVIA TRIVIA TRIVIA TRIVIA TRIVIA TRIVIA TRIVIA TRIVIA TRIVIA TRIVIA TRIVIA TRIVIA TRIVIA TRIVIA TRIVIA TRIVIA TRIVIA TRIVIA TRIVIA TRIVIA TRIVIA TRIVIA WORD WORD WORD WORD WORD WORD WORD WORD WORD WORD WORD WORD WORD WORD WORD WORD WORD WORD WORD WORD WORD WORD WORD WORD WORD WORD WORD WORD WORD WORD WORD WORD WORD WORD WORD WORD WORD WORD WORD WORD WORD WORD WORD WORD WORD WORD WORD WORD WORD WORD WORD WORD WORD WORD WORD WORD WORD WORD WORD WORD WORD WORD WORD WORD WORD WORD WORD WORD WORD WORD WORD WORD WORD WORD WORD WORD WORD WORD WORD WORD WORD WORD WORD WORD WORD WORD WORD WORD WORD WORD WORD WORD WORD WORD WORD WORD WORD WORD WORD WORD WORD WORD WORD WORD'"
      ]
     },
     "execution_count": 23,
     "metadata": {},
     "output_type": "execute_result"
    }
   ],
   "source": [
    "#Removing NaN Values\n",
    "#df.dropna(inplace = True)\n",
    "#Creating the text variable\n",
    "text = \" \".join(cat.split()[1] for cat in df.category)\n",
    "text\n"
   ]
  },
  {
   "cell_type": "code",
   "execution_count": 24,
   "metadata": {},
   "outputs": [
    {
     "ename": "ValueError",
     "evalue": "Only supported for TrueType fonts",
     "output_type": "error",
     "traceback": [
      "\u001b[0;31m---------------------------------------------------------------------------\u001b[0m",
      "\u001b[0;31mValueError\u001b[0m                                Traceback (most recent call last)",
      "\u001b[0;32m/tmp/ipykernel_14356/1069666952.py\u001b[0m in \u001b[0;36m<module>\u001b[0;34m\u001b[0m\n\u001b[1;32m      1\u001b[0m \u001b[0;31m# Creating word_cloud with text as argument in .generate() method\u001b[0m\u001b[0;34m\u001b[0m\u001b[0;34m\u001b[0m\u001b[0m\n\u001b[0;32m----> 2\u001b[0;31m \u001b[0mwordcloud\u001b[0m \u001b[0;34m=\u001b[0m \u001b[0mWordCloud\u001b[0m\u001b[0;34m(\u001b[0m\u001b[0mmax_font_size\u001b[0m\u001b[0;34m=\u001b[0m\u001b[0;36m50\u001b[0m\u001b[0;34m,\u001b[0m \u001b[0mmax_words\u001b[0m\u001b[0;34m=\u001b[0m\u001b[0;36m100\u001b[0m\u001b[0;34m,\u001b[0m \u001b[0mbackground_color\u001b[0m\u001b[0;34m=\u001b[0m\u001b[0;34m\"white\"\u001b[0m\u001b[0;34m)\u001b[0m\u001b[0;34m.\u001b[0m\u001b[0mgenerate\u001b[0m\u001b[0;34m(\u001b[0m\u001b[0mtext\u001b[0m\u001b[0;34m)\u001b[0m\u001b[0;34m\u001b[0m\u001b[0;34m\u001b[0m\u001b[0m\n\u001b[0m",
      "\u001b[0;32m~/.local/lib/python3.10/site-packages/wordcloud/wordcloud.py\u001b[0m in \u001b[0;36mgenerate\u001b[0;34m(self, text)\u001b[0m\n\u001b[1;32m    640\u001b[0m         \u001b[0mself\u001b[0m\u001b[0;34m\u001b[0m\u001b[0;34m\u001b[0m\u001b[0m\n\u001b[1;32m    641\u001b[0m         \"\"\"\n\u001b[0;32m--> 642\u001b[0;31m         \u001b[0;32mreturn\u001b[0m \u001b[0mself\u001b[0m\u001b[0;34m.\u001b[0m\u001b[0mgenerate_from_text\u001b[0m\u001b[0;34m(\u001b[0m\u001b[0mtext\u001b[0m\u001b[0;34m)\u001b[0m\u001b[0;34m\u001b[0m\u001b[0;34m\u001b[0m\u001b[0m\n\u001b[0m\u001b[1;32m    643\u001b[0m \u001b[0;34m\u001b[0m\u001b[0m\n\u001b[1;32m    644\u001b[0m     \u001b[0;32mdef\u001b[0m \u001b[0m_check_generated\u001b[0m\u001b[0;34m(\u001b[0m\u001b[0mself\u001b[0m\u001b[0;34m)\u001b[0m\u001b[0;34m:\u001b[0m\u001b[0;34m\u001b[0m\u001b[0;34m\u001b[0m\u001b[0m\n",
      "\u001b[0;32m~/.local/lib/python3.10/site-packages/wordcloud/wordcloud.py\u001b[0m in \u001b[0;36mgenerate_from_text\u001b[0;34m(self, text)\u001b[0m\n\u001b[1;32m    622\u001b[0m         \"\"\"\n\u001b[1;32m    623\u001b[0m         \u001b[0mwords\u001b[0m \u001b[0;34m=\u001b[0m \u001b[0mself\u001b[0m\u001b[0;34m.\u001b[0m\u001b[0mprocess_text\u001b[0m\u001b[0;34m(\u001b[0m\u001b[0mtext\u001b[0m\u001b[0;34m)\u001b[0m\u001b[0;34m\u001b[0m\u001b[0;34m\u001b[0m\u001b[0m\n\u001b[0;32m--> 624\u001b[0;31m         \u001b[0mself\u001b[0m\u001b[0;34m.\u001b[0m\u001b[0mgenerate_from_frequencies\u001b[0m\u001b[0;34m(\u001b[0m\u001b[0mwords\u001b[0m\u001b[0;34m)\u001b[0m\u001b[0;34m\u001b[0m\u001b[0;34m\u001b[0m\u001b[0m\n\u001b[0m\u001b[1;32m    625\u001b[0m         \u001b[0;32mreturn\u001b[0m \u001b[0mself\u001b[0m\u001b[0;34m\u001b[0m\u001b[0;34m\u001b[0m\u001b[0m\n\u001b[1;32m    626\u001b[0m \u001b[0;34m\u001b[0m\u001b[0m\n",
      "\u001b[0;32m~/.local/lib/python3.10/site-packages/wordcloud/wordcloud.py\u001b[0m in \u001b[0;36mgenerate_from_frequencies\u001b[0;34m(self, frequencies, max_font_size)\u001b[0m\n\u001b[1;32m    509\u001b[0m                     font, orientation=orientation)\n\u001b[1;32m    510\u001b[0m                 \u001b[0;31m# get size of resulting text\u001b[0m\u001b[0;34m\u001b[0m\u001b[0;34m\u001b[0m\u001b[0m\n\u001b[0;32m--> 511\u001b[0;31m                 \u001b[0mbox_size\u001b[0m \u001b[0;34m=\u001b[0m \u001b[0mdraw\u001b[0m\u001b[0;34m.\u001b[0m\u001b[0mtextbbox\u001b[0m\u001b[0;34m(\u001b[0m\u001b[0;34m(\u001b[0m\u001b[0;36m0\u001b[0m\u001b[0;34m,\u001b[0m \u001b[0;36m0\u001b[0m\u001b[0;34m)\u001b[0m\u001b[0;34m,\u001b[0m \u001b[0mword\u001b[0m\u001b[0;34m,\u001b[0m \u001b[0mfont\u001b[0m\u001b[0;34m=\u001b[0m\u001b[0mtransposed_font\u001b[0m\u001b[0;34m,\u001b[0m \u001b[0manchor\u001b[0m\u001b[0;34m=\u001b[0m\u001b[0;34m\"lt\"\u001b[0m\u001b[0;34m)\u001b[0m\u001b[0;34m\u001b[0m\u001b[0;34m\u001b[0m\u001b[0m\n\u001b[0m\u001b[1;32m    512\u001b[0m                 \u001b[0;31m# find possible places using integral image:\u001b[0m\u001b[0;34m\u001b[0m\u001b[0;34m\u001b[0m\u001b[0m\n\u001b[1;32m    513\u001b[0m                 result = occupancy.sample_position(box_size[3] + self.margin,\n",
      "\u001b[0;32m/usr/lib/python3/dist-packages/PIL/ImageDraw.py\u001b[0m in \u001b[0;36mtextbbox\u001b[0;34m(self, xy, text, font, anchor, spacing, align, direction, features, language, stroke_width, embedded_color)\u001b[0m\n\u001b[1;32m    669\u001b[0m             \u001b[0mfont\u001b[0m \u001b[0;34m=\u001b[0m \u001b[0mself\u001b[0m\u001b[0;34m.\u001b[0m\u001b[0mgetfont\u001b[0m\u001b[0;34m(\u001b[0m\u001b[0;34m)\u001b[0m\u001b[0;34m\u001b[0m\u001b[0;34m\u001b[0m\u001b[0m\n\u001b[1;32m    670\u001b[0m         \u001b[0;32mif\u001b[0m \u001b[0;32mnot\u001b[0m \u001b[0misinstance\u001b[0m\u001b[0;34m(\u001b[0m\u001b[0mfont\u001b[0m\u001b[0;34m,\u001b[0m \u001b[0mImageFont\u001b[0m\u001b[0;34m.\u001b[0m\u001b[0mFreeTypeFont\u001b[0m\u001b[0;34m)\u001b[0m\u001b[0;34m:\u001b[0m\u001b[0;34m\u001b[0m\u001b[0;34m\u001b[0m\u001b[0m\n\u001b[0;32m--> 671\u001b[0;31m             \u001b[0;32mraise\u001b[0m \u001b[0mValueError\u001b[0m\u001b[0;34m(\u001b[0m\u001b[0;34m\"Only supported for TrueType fonts\"\u001b[0m\u001b[0;34m)\u001b[0m\u001b[0;34m\u001b[0m\u001b[0;34m\u001b[0m\u001b[0m\n\u001b[0m\u001b[1;32m    672\u001b[0m         \u001b[0mmode\u001b[0m \u001b[0;34m=\u001b[0m \u001b[0;34m\"RGBA\"\u001b[0m \u001b[0;32mif\u001b[0m \u001b[0membedded_color\u001b[0m \u001b[0;32melse\u001b[0m \u001b[0mself\u001b[0m\u001b[0;34m.\u001b[0m\u001b[0mfontmode\u001b[0m\u001b[0;34m\u001b[0m\u001b[0;34m\u001b[0m\u001b[0m\n\u001b[1;32m    673\u001b[0m         bbox = font.getbbox(\n",
      "\u001b[0;31mValueError\u001b[0m: Only supported for TrueType fonts"
     ]
    }
   ],
   "source": [
    "# Creating word_cloud with text as argument in .generate() method\n",
    "wordcloud = WordCloud(max_font_size=50, max_words=100, background_color=\"white\").generate(text)\n"
   ]
  },
  {
   "cell_type": "code",
   "execution_count": null,
   "metadata": {},
   "outputs": [],
   "source": [
    "# Display the generated Word Cloud\n",
    "plt.imshow(wordcloud, interpolation='bilinear')\n",
    "plt.axis(\"off\")\n",
    "plt.show()"
   ]
  }
 ],
 "metadata": {
  "kernelspec": {
   "display_name": "Python 3",
   "language": "python",
   "name": "python3"
  },
  "language_info": {
   "codemirror_mode": {
    "name": "ipython",
    "version": 3
   },
   "file_extension": ".py",
   "mimetype": "text/x-python",
   "name": "python",
   "nbconvert_exporter": "python",
   "pygments_lexer": "ipython3",
   "version": "3.10.12"
  }
 },
 "nbformat": 4,
 "nbformat_minor": 2
}
