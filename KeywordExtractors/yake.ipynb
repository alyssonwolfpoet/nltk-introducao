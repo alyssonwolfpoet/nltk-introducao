{
 "cells": [
  {
   "cell_type": "code",
   "execution_count": 2,
   "metadata": {},
   "outputs": [],
   "source": [
    "import yake "
   ]
  },
  {
   "cell_type": "code",
   "execution_count": 3,
   "metadata": {},
   "outputs": [],
   "source": [
    "text = \"Sources tell us that Google is acquiring Kaggle, a platform that hosts data science and machine learning \"\\\n",
    "\"competitions. Details about the transaction remain somewhat vague, but given that Google is hosting its Cloud \"\\\n",
    "\"Next conference in San Francisco this week, the official announcement could come as early as tomorrow. \"\\\n",
    "\"Reached by phone, Kaggle co-founder CEO Anthony Goldbloom declined to deny that the acquisition is happening. \"\\\n",
    "\"Google itself declined 'to comment on rumors'. Kaggle, which has about half a million data scientists on its platform, \"\\\n",
    "\"was founded by Goldbloom  and Ben Hamner in 2010. \"\\\n",
    "\"The service got an early start and even though it has a few competitors like DrivenData, TopCoder and HackerRank, \"\\\n",
    "\"it has managed to stay well ahead of them by focusing on its specific niche. \"\\\n",
    "\"The service is basically the de facto home for running data science and machine learning competitions. \"\\\n",
    "\"With Kaggle, Google is buying one of the largest and most active communities for data scientists - and with that, \"\\\n",
    "\"it will get increased mindshare in this community, too (though it already has plenty of that thanks to Tensorflow \"\\\n",
    "\"and other projects). Kaggle has a bit of a history with Google, too, but that's pretty recent. Earlier this month, \"\\\n",
    "\"Google and Kaggle teamed up to host a $100,000 machine learning competition around classifying YouTube videos. \"\\\n",
    "\"That competition had some deep integrations with the Google Cloud Platform, too. Our understanding is that Google \"\\\n",
    "\"will keep the service running - likely under its current name. While the acquisition is probably more about \"\\\n",
    "\"Kaggle's community than technology, Kaggle did build some interesting tools for hosting its competition \"\\\n",
    "\"and 'kernels', too. On Kaggle, kernels are basically the source code for analyzing data sets and developers can \"\\\n",
    "\"share this code on the platform (the company previously called them 'scripts'). \"\\\n",
    "\"Like similar competition-centric sites, Kaggle also runs a job board, too. It's unclear what Google will do with \"\\\n",
    "\"that part of the service. According to Crunchbase, Kaggle raised $12.5 million (though PitchBook says it's $12.75) \"\\\n",
    "\"since its   launch in 2010. Investors in Kaggle include Index Ventures, SV Angel, Max Levchin, Naval Ravikant, \"\\\n",
    "\"Google chief economist Hal Varian, Khosla Ventures and Yuri Milner \""
   ]
  },
  {
   "cell_type": "code",
   "execution_count": 4,
   "metadata": {},
   "outputs": [],
   "source": [
    "kw_extractor = yake.KeywordExtractor()\n",
    "keywords = kw_extractor.extract_keywords(text)\n"
   ]
  },
  {
   "cell_type": "code",
   "execution_count": 5,
   "metadata": {},
   "outputs": [
    {
     "name": "stdout",
     "output_type": "stream",
     "text": [
      "('Google', 0.026580863364597897)\n",
      "('Kaggle', 0.0289005976239829)\n",
      "('CEO Anthony Goldbloom', 0.029946071606210194)\n",
      "('San Francisco', 0.048810837074825336)\n",
      "('Anthony Goldbloom declined', 0.06176910090701819)\n",
      "('Google Cloud Platform', 0.06261974476422487)\n",
      "('co-founder CEO Anthony', 0.07357749587020043)\n",
      "('acquiring Kaggle', 0.08723571551039863)\n",
      "('CEO Anthony', 0.08915156857226395)\n",
      "('Anthony Goldbloom', 0.09123482372372106)\n",
      "('machine learning', 0.09147989238151344)\n",
      "('Kaggle co-founder CEO', 0.093805063905847)\n",
      "('data', 0.097574333771058)\n",
      "('Google Cloud', 0.10260128641464673)\n",
      "('machine learning competitions', 0.10773000650607861)\n",
      "('Francisco this week', 0.11519915079240485)\n",
      "('platform', 0.1183512305596321)\n",
      "('conference in San', 0.12392066376108138)\n",
      "('service', 0.12546743261462942)\n",
      "('Goldbloom', 0.14611408778815776)\n"
     ]
    }
   ],
   "source": [
    "for kw in keywords:\n",
    "\tprint(kw)\n",
    "  \n",
    "# ('google', 0.026580863364597897)\n",
    "# ('kaggle', 0.0289005976239829)\n",
    "# ('ceo anthony goldbloom', 0.029946071606210194)\n",
    "# ('san francisco', 0.048810837074825336)\n",
    "# ('anthony goldbloom declined', 0.06176910090701819)\n",
    "# ('google cloud platform', 0.06261974476422487)\n",
    "# ('co-founder ceo anthony', 0.07357749587020043)\n",
    "# ('acquiring kaggle', 0.08723571551039863)\n",
    "# ('ceo anthony', 0.08915156857226395)\n",
    "# ('anthony goldbloom', 0.09123482372372106)\n",
    "# ('machine learning', 0.09147989238151344)\n",
    "# ('kaggle co-founder ceo', 0.093805063905847)\n",
    "# ('data', 0.097574333771058)\n",
    "# ('google cloud', 0.10260128641464673)\n",
    "# ('machine learning competitions', 0.10773000650607861)\n",
    "# ('francisco this week', 0.11519915079240485)\n",
    "# ('platform', 0.1183512305596321)\n",
    "# ('conference in san', 0.12392066376108138)\n",
    "# ('service', 0.12546743261462942)\n",
    "#('goldbloom', 0.14611408778815776)"
   ]
  }
 ],
 "metadata": {
  "kernelspec": {
   "display_name": "Python 3",
   "language": "python",
   "name": "python3"
  },
  "language_info": {
   "codemirror_mode": {
    "name": "ipython",
    "version": 3
   },
   "file_extension": ".py",
   "mimetype": "text/x-python",
   "name": "python",
   "nbconvert_exporter": "python",
   "pygments_lexer": "ipython3",
   "version": "3.12.3"
  }
 },
 "nbformat": 4,
 "nbformat_minor": 2
}
