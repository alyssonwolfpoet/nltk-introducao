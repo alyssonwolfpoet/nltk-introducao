{
 "cells": [
  {
   "cell_type": "code",
   "execution_count": 1,
   "metadata": {},
   "outputs": [],
   "source": [
    "from summa import keywords"
   ]
  },
  {
   "cell_type": "code",
   "execution_count": 2,
   "metadata": {},
   "outputs": [],
   "source": [
    "text = \"Sources tell us that Google is acquiring Kaggle, a platform that hosts data science and machine learning \"\\\n",
    "\"competitions. Details about the transaction remain somewhat vague, but given that Google is hosting its Cloud \"\\\n",
    "\"Next conference in San Francisco this week, the official announcement could come as early as tomorrow. \"\\\n",
    "\"Reached by phone, Kaggle co-founder CEO Anthony Goldbloom declined to deny that the acquisition is happening. \"\\\n",
    "\"Google itself declined 'to comment on rumors'. Kaggle, which has about half a million data scientists on its platform, \"\\\n",
    "\"was founded by Goldbloom  and Ben Hamner in 2010. \"\\\n",
    "\"The service got an early start and even though it has a few competitors like DrivenData, TopCoder and HackerRank, \"\\\n",
    "\"it has managed to stay well ahead of them by focusing on its specific niche. \"\\\n",
    "\"The service is basically the de facto home for running data science and machine learning competitions. \"\\\n",
    "\"With Kaggle, Google is buying one of the largest and most active communities for data scientists - and with that, \"\\\n",
    "\"it will get increased mindshare in this community, too (though it already has plenty of that thanks to Tensorflow \"\\\n",
    "\"and other projects). Kaggle has a bit of a history with Google, too, but that's pretty recent. Earlier this month, \"\\\n",
    "\"Google and Kaggle teamed up to host a $100,000 machine learning competition around classifying YouTube videos. \"\\\n",
    "\"That competition had some deep integrations with the Google Cloud Platform, too. Our understanding is that Google \"\\\n",
    "\"will keep the service running - likely under its current name. While the acquisition is probably more about \"\\\n",
    "\"Kaggle's community than technology, Kaggle did build some interesting tools for hosting its competition \"\\\n",
    "\"and 'kernels', too. On Kaggle, kernels are basically the source code for analyzing data sets and developers can \"\\\n",
    "\"share this code on the platform (the company previously called them 'scripts'). \"\\\n",
    "\"Like similar competition-centric sites, Kaggle also runs a job board, too. It's unclear what Google will do with \"\\\n",
    "\"that part of the service. According to Crunchbase, Kaggle raised $12.5 million (though PitchBook says it's $12.75) \"\\\n",
    "\"since its   launch in 2010. Investors in Kaggle include Index Ventures, SV Angel, Max Levchin, Naval Ravikant, \"\\\n",
    "\"Google chief economist Hal Varian, Khosla Ventures and Yuri Milner\""
   ]
  },
  {
   "cell_type": "code",
   "execution_count": 3,
   "metadata": {},
   "outputs": [
    {
     "name": "stdout",
     "output_type": "stream",
     "text": [
      "kaggle\n",
      "data\n",
      "google\n",
      "like\n",
      "likely\n",
      "competitions\n",
      "competition\n",
      "service\n",
      "recent\n",
      "previously\n",
      "youtube\n",
      "sources\n",
      "source\n",
      "running\n",
      "runs\n",
      "ventures\n",
      "remain somewhat\n",
      "ceo\n",
      "goldbloom\n",
      "anthony\n",
      "learning\n",
      "drivendata\n",
      "cloud\n"
     ]
    }
   ],
   "source": [
    "print(keywords.keywords(text))\n",
    "# kaggle\n",
    "# data\n",
    "# google\n",
    "# like\n",
    "# likely"
   ]
  }
 ],
 "metadata": {
  "kernelspec": {
   "display_name": "Python 3",
   "language": "python",
   "name": "python3"
  },
  "language_info": {
   "codemirror_mode": {
    "name": "ipython",
    "version": 3
   },
   "file_extension": ".py",
   "mimetype": "text/x-python",
   "name": "python",
   "nbconvert_exporter": "python",
   "pygments_lexer": "ipython3",
   "version": "3.12.3"
  }
 },
 "nbformat": 4,
 "nbformat_minor": 2
}
