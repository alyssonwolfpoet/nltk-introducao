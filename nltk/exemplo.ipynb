{
 "cells": [
  {
   "cell_type": "code",
   "execution_count": null,
   "id": "9ce46e9e31e7f26a",
   "metadata": {
    "ExecuteTime": {
     "end_time": "2024-05-20T19:26:12.022425Z",
     "start_time": "2024-05-20T19:26:08.357045Z"
    },
    "collapsed": false
   },
   "outputs": [],
   "source": [
    "!python -m spacy download pt_core_news_sm"
   ]
  },
  {
   "cell_type": "code",
   "execution_count": null,
   "id": "b99fbcdee10b8a2c",
   "metadata": {
    "ExecuteTime": {
     "end_time": "2024-05-20T19:43:10.558303Z",
     "start_time": "2024-05-20T19:43:08.998365Z"
    },
    "collapsed": false
   },
   "outputs": [],
   "source": [
    "import spacy\n",
    "from spacy.lang.pt.examples import sentences\n",
    "\n",
    "# Load the spaCy model with the \"en_core_web_md\" model\n",
    "nlp = spacy.load(\"pt_core_news_lg\")"
   ]
  },
  {
   "cell_type": "code",
   "execution_count": null,
   "id": "6dc5857029fd21e3",
   "metadata": {
    "ExecuteTime": {
     "end_time": "2024-05-20T19:43:11.346057Z",
     "start_time": "2024-05-20T19:43:11.343015Z"
    },
    "collapsed": false
   },
   "outputs": [],
   "source": [
    "sentences"
   ]
  },
  {
   "cell_type": "code",
   "execution_count": null,
   "id": "737e5c45e31e830e",
   "metadata": {
    "ExecuteTime": {
     "end_time": "2024-05-20T19:46:10.545449Z",
     "start_time": "2024-05-20T19:46:10.534357Z"
    },
    "collapsed": false
   },
   "outputs": [],
   "source": [
    "# Process a text    \n",
    "doc = nlp('Apple está querendo comprar uma empresa do Reino Unido por 100 milhões de dólares, e está cara')\n",
    "# doc = nlp(text_example)"
   ]
  },
  {
   "cell_type": "code",
   "execution_count": null,
   "id": "1ef0669846732dc",
   "metadata": {
    "ExecuteTime": {
     "end_time": "2024-05-20T19:46:11.211401Z",
     "start_time": "2024-05-20T19:46:11.208305Z"
    },
    "collapsed": false
   },
   "outputs": [],
   "source": [
    "doc"
   ]
  },
  {
   "cell_type": "code",
   "execution_count": null,
   "id": "b334e9f22b184723",
   "metadata": {
    "ExecuteTime": {
     "end_time": "2024-05-20T19:46:11.884601Z",
     "start_time": "2024-05-20T19:46:11.881264Z"
    },
    "collapsed": false
   },
   "outputs": [],
   "source": [
    "sentences[0]"
   ]
  },
  {
   "cell_type": "code",
   "execution_count": null,
   "id": "406a44e0c65c835f",
   "metadata": {
    "ExecuteTime": {
     "end_time": "2024-05-20T19:46:12.140881Z",
     "start_time": "2024-05-20T19:46:12.132258Z"
    },
    "collapsed": false
   },
   "outputs": [],
   "source": [
    "base_token = nlp(\"Apple\")"
   ]
  },
  {
   "cell_type": "markdown",
   "id": "7cdeb6db42d6a756",
   "metadata": {
    "collapsed": false
   },
   "source": [
    "# Tokenização"
   ]
  },
  {
   "cell_type": "code",
   "execution_count": null,
   "id": "6806d21c6c1a3dc0",
   "metadata": {
    "ExecuteTime": {
     "end_time": "2024-05-20T19:46:12.830524Z",
     "start_time": "2024-05-20T19:46:12.826853Z"
    },
    "collapsed": false
   },
   "outputs": [],
   "source": [
    "# 3. Using Tokens\n",
    "for token in doc:\n",
    "    print(f\"{token.text:{12}}{token.pos_:{12}}{token.dep_:{12}}{token.lemma_}\")"
   ]
  },
  {
   "cell_type": "code",
   "execution_count": null,
   "id": "3b95d833b3a7ccca",
   "metadata": {
    "ExecuteTime": {
     "end_time": "2024-05-20T19:46:13.212256Z",
     "start_time": "2024-05-20T19:46:13.208164Z"
    },
    "collapsed": false
   },
   "outputs": [],
   "source": [
    "# 3. Using Tokens\n",
    "for token in doc:\n",
    "    if token.similarity(base_token) >= 0.00:\n",
    "        print(f\"{token.text} <-> {base_token.text}: \",token.similarity(base_token))"
   ]
  },
  {
   "cell_type": "markdown",
   "id": "db409435006ea9e4",
   "metadata": {
    "collapsed": false
   },
   "source": [
    "# Lemmatização"
   ]
  },
  {
   "cell_type": "code",
   "execution_count": null,
   "id": "360ea4db57e0a515",
   "metadata": {
    "ExecuteTime": {
     "end_time": "2024-05-20T19:45:29.986770Z",
     "start_time": "2024-05-20T19:45:29.983072Z"
    },
    "collapsed": false
   },
   "outputs": [],
   "source": [
    "for token in doc:\n",
    "    print(token.text, token.lemma_)"
   ]
  },
  {
   "cell_type": "markdown",
   "id": "d4c15e060a505912",
   "metadata": {
    "collapsed": false
   },
   "source": [
    "# NER - Name Entity Recognition"
   ]
  },
  {
   "cell_type": "code",
   "execution_count": null,
   "id": "fabd83bf1488b072",
   "metadata": {
    "ExecuteTime": {
     "end_time": "2024-05-20T19:45:31.141421Z",
     "start_time": "2024-05-20T19:45:31.138791Z"
    },
    "collapsed": false
   },
   "outputs": [],
   "source": [
    "for ent in doc.ents:\n",
    "    print(ent.text, ent.label_)"
   ]
  },
  {
   "cell_type": "markdown",
   "id": "6d673feeefbd791f",
   "metadata": {
    "collapsed": false
   },
   "source": [
    "\n",
    "# Part-of-speech (POS) Tagging"
   ]
  },
  {
   "cell_type": "code",
   "execution_count": null,
   "id": "e9df0cf8e000e207",
   "metadata": {
    "ExecuteTime": {
     "end_time": "2024-05-20T19:45:32.136088Z",
     "start_time": "2024-05-20T19:45:32.133064Z"
    },
    "collapsed": false
   },
   "outputs": [],
   "source": [
    "\n",
    "for token in doc:\n",
    "    print(token.text, token.pos_)"
   ]
  },
  {
   "cell_type": "code",
   "execution_count": null,
   "id": "b4777fa305b9efba",
   "metadata": {
    "ExecuteTime": {
     "end_time": "2024-05-20T19:45:32.675924Z",
     "start_time": "2024-05-20T19:45:32.671947Z"
    },
    "collapsed": false
   },
   "outputs": [],
   "source": [
    "for token in doc:\n",
    "    print(token.text, \"-->\", token.dep_)\n"
   ]
  },
  {
   "cell_type": "code",
   "execution_count": null,
   "id": "91561aa611ffa18",
   "metadata": {
    "ExecuteTime": {
     "end_time": "2024-05-20T19:45:33.471939Z",
     "start_time": "2024-05-20T19:45:33.468897Z"
    },
    "collapsed": false
   },
   "outputs": [],
   "source": [
    "# Iterate over the named entities in the document\n",
    "for ent in doc.ents:\n",
    "    # Print the text and label of the entity\n",
    "    print(ent.text, ent.label_)\n",
    "\n",
    "# Extract the first noun phrase in the text\n",
    "first_noun_phrase = doc[0:2]\n",
    "print(first_noun_phrase.text)\n"
   ]
  },
  {
   "cell_type": "code",
   "execution_count": null,
   "id": "169800e67873eb4d",
   "metadata": {
    "ExecuteTime": {
     "end_time": "2024-05-20T19:45:34.163719Z",
     "start_time": "2024-05-20T19:45:34.160132Z"
    },
    "collapsed": false
   },
   "outputs": [],
   "source": [
    "# Extract the dependencies of the tokens in the text\n",
    "dependencies = [(token.text, token.dep_, token.head.text) for token in doc]\n",
    "print(dependencies)\n"
   ]
  },
  {
   "cell_type": "code",
   "execution_count": null,
   "id": "2779c5a151563ddf",
   "metadata": {
    "ExecuteTime": {
     "end_time": "2024-05-20T19:45:34.940008Z",
     "start_time": "2024-05-20T19:45:34.931978Z"
    },
    "collapsed": false
   },
   "outputs": [],
   "source": [
    "\n",
    "# Get the part-of-speech tags for the tokens in the text\n",
    "pos_tags = [token.pos_ for token in doc]\n",
    "print(pos_tags)\n",
    "\n",
    "\n",
    "# Get the lemma of the first token in the text\n",
    "first_token_lemma = doc[0].lemma_\n",
    "print(first_token_lemma)"
   ]
  },
  {
   "cell_type": "code",
   "execution_count": null,
   "id": "841fd97ce11a4421",
   "metadata": {
    "ExecuteTime": {
     "end_time": "2024-05-20T19:41:45.304547Z",
     "start_time": "2024-05-20T19:41:45.299652Z"
    },
    "collapsed": false
   },
   "outputs": [],
   "source": [
    "from spacy import displacy\n",
    "displacy.render(doc, style=\"dep\")\n"
   ]
  },
  {
   "cell_type": "code",
   "execution_count": null,
   "id": "78e49e2c9a5f2296",
   "metadata": {
    "ExecuteTime": {
     "end_time": "2024-05-20T19:34:13.064516Z",
     "start_time": "2024-05-20T19:34:13.059938Z"
    },
    "collapsed": false
   },
   "outputs": [],
   "source": [
    "displacy.render(doc, style=\"dep\",jupyter=True)"
   ]
  },
  {
   "cell_type": "code",
   "execution_count": null,
   "id": "d67182e7ef5cd2ed",
   "metadata": {
    "collapsed": false
   },
   "outputs": [],
   "source": []
  }
 ],
 "metadata": {
  "kernelspec": {
   "display_name": "Python 3",
   "language": "python",
   "name": "python3"
  },
  "language_info": {
   "codemirror_mode": {
    "name": "ipython",
    "version": 3
   },
   "file_extension": ".py",
   "mimetype": "text/x-python",
   "name": "python",
   "nbconvert_exporter": "python",
   "pygments_lexer": "ipython3",
   "version": "3.12.3"
  }
 },
 "nbformat": 4,
 "nbformat_minor": 5
}
